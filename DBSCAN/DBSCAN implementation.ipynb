{
 "cells": [
  {
   "cell_type": "code",
   "execution_count": 1,
   "metadata": {},
   "outputs": [],
   "source": [
    "import pandas as pd\n",
    "import numpy as np\n",
    "import itertools\n",
    "import matplotlib.pyplot as plt\n",
    "import seaborn as sns"
   ]
  },
  {
   "cell_type": "code",
   "execution_count": 2,
   "metadata": {},
   "outputs": [],
   "source": [
    "def DBSCAN(D, epsilon, minpts):\n",
    "    # find core points\n",
    "    cores = []\n",
    "    noise = []\n",
    "    border = []\n",
    "    clusters = []\n",
    "    for data_point in D:\n",
    "        neighbors = []\n",
    "        neighbors.append(list(data_point))\n",
    "        for point in D:\n",
    "            distance = np.linalg.norm(data_point - point)\n",
    "            if distance <= epsilon and distance > 0:\n",
    "                neighbors.append(list(point))\n",
    "\n",
    "        if len(neighbors) >= minpts+1:\n",
    "            cores.append(list(data_point))\n",
    "            clusters.append(neighbors)\n",
    "        elif len(neighbors) == 1:\n",
    "            noise.append(list(data_point))\n",
    "        else:\n",
    "            border.append(list(data_point))\n",
    "\n",
    "    final_clusters = []       \n",
    "    for i in range(len(clusters)):\n",
    "        for j in range(i+1, len(clusters)):\n",
    "            \n",
    "            final_clusters.append(common_point(clusters[i],clusters[j]))\n",
    "        \n",
    "    final_clusters = list(num for num,_ in itertools.groupby(sorted(final_clusters))) \n",
    "    final_clusters.append(noise)\n",
    "    labels = label_c(D, final_clusters)\n",
    "    return final_clusters, cores, noise, border, labels\n",
    "\n",
    "\n",
    "\n",
    "def common_point(cluster1, cluster2):\n",
    "    for ele in cluster1:\n",
    "        if ele in cluster2:\n",
    "            cluster1.extend(cluster2)\n",
    "            cluster1.sort()\n",
    "            cluster1 = list(cluster1 for cluster1,_ in itertools.groupby(cluster1))\n",
    "            return cluster1\n",
    "    return cluster1\n",
    "\n",
    "def label_c(df,final_cluster):\n",
    "    label=[]\n",
    "    for i in range(len(df)):\n",
    "        for j in final_cluster:\n",
    "            if list(df[i]) in j:\n",
    "                label.append(final_cluster.index(j))\n",
    "    label=np.array(label)\n",
    "    return label\n",
    "    "
   ]
  },
  {
   "cell_type": "code",
   "execution_count": 3,
   "metadata": {},
   "outputs": [
    {
     "name": "stdout",
     "output_type": "stream",
     "text": [
      "final clusters:\n",
      "[[1.0, 2.0], [1.0, 2.5], [1.0, 3.0], [1.2, 2.5], [1.5, 2.5]]\n",
      "[[2.8, 4.5], [3.0, 4.0], [2.5, 4.0], [3.0, 5.0], [2.5, 4.5]]\n",
      "[[1.0, 5.0], [5.0, 6.0], [4.0, 3.0]]\n",
      "cores:\n",
      "[[2.8, 4.5], [1.2, 2.5], [1.0, 2.5]]\n",
      "outliers:\n",
      "[[1.0, 5.0], [5.0, 6.0], [4.0, 3.0]]\n",
      "border:\n",
      "[[1.0, 2.0], [3.0, 4.0], [2.5, 4.0], [1.5, 2.5], [3.0, 5.0], [2.5, 4.5], [1.0, 3.0]]\n",
      "labels:\n",
      "[0 1 1 0 1 1 1 0 0 2 0 2 2]\n"
     ]
    }
   ],
   "source": [
    "x = [1, 3, 2.5, 1.5, 3, 2.8, 2.5, 1.2, 1, 1, 1, 5, 4]\n",
    "y = [2, 4, 4, 2.5, 5, 4.5, 4.5, 2.5, 3, 5, 2.5, 6, 3]\n",
    "\n",
    "data =np.column_stack((x, y))\n",
    "final_clusters, cores, noise, border, labels = DBSCAN(data, .6, 4)\n",
    "print (\"final clusters:\")\n",
    "for cluster in final_clusters:\n",
    "    print(cluster)\n",
    "    \n",
    "print (f\"cores:\\n{cores}\")\n",
    "print (f\"outliers:\\n{noise}\")\n",
    "print (f\"border:\\n{border}\")\n",
    "print (f\"labels:\\n{labels}\")"
   ]
  },
  {
   "cell_type": "code",
   "execution_count": 4,
   "metadata": {},
   "outputs": [
    {
     "data": {
      "image/png": "[encoded data removed]",
      "text/plain": [
       "<Figure size 576x576 with 1 Axes>"
      ]
     },
     "metadata": {
      "needs_background": "light"
     },
     "output_type": "display_data"
    }
   ],
   "source": [
    "plt.figure(figsize=(8,8))\n",
    "sns.scatterplot(x=x, y=y,hue=labels)\n",
    "plt.show()"
   ]
  },
  {
   "cell_type": "code",
   "execution_count": null,
   "metadata": {},
   "outputs": [],
   "source": []
  }
 ],
 "metadata": {
  "kernelspec": {
   "display_name": "Python 3",
   "language": "python",
   "name": "python3"
  },
  "language_info": {
   "codemirror_mode": {
    "name": "ipython",
    "version": 3
   },
   "file_extension": ".py",
   "mimetype": "text/x-python",
   "name": "python",
   "nbconvert_exporter": "python",
   "pygments_lexer": "ipython3",
   "version": "3.8.3"
  }
 },
 "nbformat": 4,
 "nbformat_minor": 4
}
