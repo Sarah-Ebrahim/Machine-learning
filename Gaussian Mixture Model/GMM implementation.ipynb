{
 "cells": [
  {
   "cell_type": "code",
   "execution_count": 103,
   "metadata": {},
   "outputs": [],
   "source": [
    "import pandas as pd\n",
    "import numpy as np\n",
    "import matplotlib.pyplot as plt\n",
    "from scipy.stats import multivariate_normal\n",
    "from sklearn.datasets import make_circles, make_moons, make_blobs\n",
    "from numpy import random\n",
    "from sklearn import mixture"
   ]
  },
  {
   "cell_type": "code",
   "execution_count": 104,
   "metadata": {},
   "outputs": [
    {
     "data": {
      "text/plain": [
       "<matplotlib.collections.PathCollection at 0x13fa10a0>"
      ]
     },
     "execution_count": 104,
     "metadata": {},
     "output_type": "execute_result"
    },
    {
     "data": {
      "image/png": "[encoded data removed]",
      "text/plain": [
       "<Figure size 432x288 with 1 Axes>"
      ]
     },
     "metadata": {
      "needs_background": "light"
     },
     "output_type": "display_data"
    }
   ],
   "source": [
    "n_samples = 1500\n",
    "centers = 3\n",
    "dataset = make_blobs(n_samples=n_samples, random_state=8, centers=centers)\n",
    "dataset=pd.DataFrame(dataset[0],columns = [\"x\", \"y\"])\n",
    "dataset.head()\n",
    "plt.scatter(dataset['x'], dataset['y'])"
   ]
  },
  {
   "cell_type": "code",
   "execution_count": 105,
   "metadata": {},
   "outputs": [
    {
     "name": "stdout",
     "output_type": "stream",
     "text": [
      "[[3 5]\n",
      " [9 3]\n",
      " [7 7]] [[[37.22482025 42.30014714]\n",
      "  [42.30014714 62.890394  ]]\n",
      "\n",
      " [[37.22482025 42.30014714]\n",
      "  [42.30014714 62.890394  ]]\n",
      "\n",
      " [[37.22482025 42.30014714]\n",
      "  [42.30014714 62.890394  ]]] [0.33333333 0.33333333 0.33333333]\n"
     ]
    }
   ],
   "source": [
    "def initialize(data, k):\n",
    "    means = random.randint(10, size = (k,data.shape[1]))\n",
    "    weights = np.ones(k) / k\n",
    "    covs = np.array([np.cov(data.T)]*k)\n",
    "    return means, covs, weights\n",
    "means, covs, weights = initialize(dataset, 3)\n",
    "print(means, covs, weights)"
   ]
  },
  {
   "cell_type": "code",
   "execution_count": 106,
   "metadata": {},
   "outputs": [
    {
     "name": "stdout",
     "output_type": "stream",
     "text": [
      "[[0.5078223  0.0378733  0.45430441]\n",
      " [0.61197594 0.01298529 0.37503877]\n",
      " [0.50671992 0.03048394 0.46279615]\n",
      " ...\n",
      " [0.48248349 0.03554016 0.48197635]\n",
      " [0.44174643 0.20474508 0.35350849]\n",
      " [0.33332852 0.31549689 0.35117459]]\n"
     ]
    }
   ],
   "source": [
    "multivariate_gaussian_pdf = multivariate_normal.pdf\n",
    "def E_step(data, means, covs, weights):\n",
    "    n_data = data.shape[0]\n",
    "    n_clusters = means.shape[0]\n",
    "    responsibilities = np.zeros([n_data, n_clusters])\n",
    "    for c in range(n_clusters):\n",
    "        responsibilities[:,c] = multivariate_gaussian_pdf(data, means[c], covs[c])\n",
    "    responsibilities = weights*responsibilities\n",
    "    responsibilities /= responsibilities.sum(axis=1)[:,np.newaxis]\n",
    "    return responsibilities\n",
    "responsibilities =E_step(dataset, means, covs, weights)\n",
    "print(responsibilities)"
   ]
  },
  {
   "cell_type": "code",
   "execution_count": 107,
   "metadata": {},
   "outputs": [
    {
     "name": "stdout",
     "output_type": "stream",
     "text": [
      "(array([[0, 0],\n",
      "       [5, 0],\n",
      "       [3, 1]]), array([[[41.96950543, 58.3504746 ],\n",
      "        [58.3504746 , 89.13144252]],\n",
      "\n",
      "       [[22.93580996, 20.38386086],\n",
      "        [20.38386086, 25.12700353]],\n",
      "\n",
      "       [[36.34179736, 47.7047907 ],\n",
      "        [47.7047907 , 73.28526177]]]), array([0.32582687, 0.33955315, 0.33461998]))\n"
     ]
    }
   ],
   "source": [
    "def M_step(data, responsibilities, means, covs):\n",
    "    n_data, n_clusters = responsibilities.shape\n",
    "    weights = responsibilities.sum(axis=0)\n",
    "    for c in range(n_clusters):\n",
    "        resp = responsibilities[:,c].reshape(n_data,1)\n",
    "        means[c] = (resp*data).sum(axis=0) / resp.sum()\n",
    "        covs[c] = ((data - means[c]).T).dot((data - means[c])*resp) / weights[c]\n",
    "    weights /= weights.sum()\n",
    "    return means, covs, weights\n",
    "print(M_step(dataset, responsibilities, means, covs))"
   ]
  },
  {
   "cell_type": "code",
   "execution_count": 110,
   "metadata": {},
   "outputs": [
    {
     "name": "stdout",
     "output_type": "stream",
     "text": [
      "(array([[-5, -9],\n",
      "       [ 7,  9],\n",
      "       [ 7,  0]]), array([[[1.00831965, 0.22829281],\n",
      "        [0.22829281, 1.64352293]],\n",
      "\n",
      "       [[1.34052333, 0.24866238],\n",
      "        [0.24866238, 1.16053675]],\n",
      "\n",
      "       [[1.13942189, 0.31020531],\n",
      "        [0.31020531, 1.43151141]]]), array([1, 1, 1, ..., 1, 0, 0], dtype=int64))\n"
     ]
    }
   ],
   "source": [
    "def Gaussian_Mixture(data, n_clusters, n_iterations=1000):\n",
    "    means, covs, weights = initialize(data, n_clusters)\n",
    "    assignments = []\n",
    "    for i in range(n_iterations):\n",
    "        responsibilities = E_step(data, means, covs, weights)\n",
    "        assignments = responsibilities.argmax(axis=1)\n",
    "        means, covs, weights = M_step(data, responsibilities, means, covs)\n",
    "        \n",
    "    assignments = np.array(assignments)\n",
    "    return means, covs, assignments\n",
    "print(Gaussian_Mixture(dataset, 3, n_iterations=1000))"
   ]
  },
  {
   "cell_type": "code",
   "execution_count": 111,
   "metadata": {},
   "outputs": [
    {
     "name": "stdout",
     "output_type": "stream",
     "text": [
      "[1 1 1 ... 1 0 0]\n"
     ]
    }
   ],
   "source": [
    "GMM = mixture.GaussianMixture(n_components=3, covariance_type='full')\n",
    "GMM.fit(dataset)\n",
    "print(GMM.predict(dataset))"
   ]
  },
  {
   "cell_type": "code",
   "execution_count": null,
   "metadata": {},
   "outputs": [],
   "source": []
  }
 ],
 "metadata": {
  "kernelspec": {
   "display_name": "Python 3",
   "language": "python",
   "name": "python3"
  },
  "language_info": {
   "codemirror_mode": {
    "name": "ipython",
    "version": 3
   },
   "file_extension": ".py",
   "mimetype": "text/x-python",
   "name": "python",
   "nbconvert_exporter": "python",
   "pygments_lexer": "ipython3",
   "version": "3.8.3"
  }
 },
 "nbformat": 4,
 "nbformat_minor": 4
}
